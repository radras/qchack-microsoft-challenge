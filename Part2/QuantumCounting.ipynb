{
 "cells": [
  {
   "cell_type": "markdown",
   "id": "24686303",
   "metadata": {},
   "source": [
    "# Quantum counting"
   ]
  },
  {
   "cell_type": "markdown",
   "id": "785b0585",
   "metadata": {},
   "source": [
    "To successfully run Grover's algorithm we need to know the exact number of solutions in order to determine the required number of iterations. However, this is sometimes not the case and an algorithm for determination of the number of solutions is required. Here we show how to determine the number of solutions using the Quantum phase estimation algorithm."
   ]
  },
  {
   "cell_type": "code",
   "execution_count": 1,
   "id": "9294e035",
   "metadata": {},
   "outputs": [
    {
     "data": {
      "application/json": "[]",
      "text/html": [
       "<ul></ul>"
      ],
      "text/plain": []
     },
     "execution_count": 1,
     "metadata": {},
     "output_type": "execute_result"
    }
   ],
   "source": [
    "open Microsoft.Quantum.Measurement;\n",
    "open Microsoft.Quantum.Math;\n",
    "open Microsoft.Quantum.Arrays;\n",
    "open Microsoft.Quantum.Preparation;\n",
    "open Microsoft.Quantum.Characterization;\n",
    "open Microsoft.Quantum.Oracles;\n",
    "open Microsoft.Quantum.Arithmetic;\n",
    "open Microsoft.Quantum.Convert;"
   ]
  },
  {
   "cell_type": "markdown",
   "id": "7256f741",
   "metadata": {},
   "source": [
    "Here we define a simple oracle in order to test our code. The oracle defines a function $f(x) = 1$ only when $x = 0\\dots 0$ and $x = 1\\dots 1$."
   ]
  },
  {
   "cell_type": "code",
   "execution_count": 2,
   "id": "c8bb4bf2",
   "metadata": {},
   "outputs": [
    {
     "data": {
      "application/json": "[\"Oracle\"]",
      "text/html": [
       "<ul><li>Oracle</li></ul>"
      ],
      "text/plain": [
       "Oracle"
      ]
     },
     "execution_count": 2,
     "metadata": {},
     "output_type": "execute_result"
    }
   ],
   "source": [
    "// oracle f(x) = 1 if x = 00..00, 11..11\n",
    "operation Oracle(groverQubits : Qubit[]) : Unit is Adj+Ctl {\n",
    "    Controlled X(Most(groverQubits), Tail(groverQubits));\n",
    "    within {\n",
    "        ApplyToEachA(X, Most(groverQubits));\n",
    "    }\n",
    "    apply {\n",
    "        Controlled X(Most(groverQubits), Tail(groverQubits));\n",
    "    }\n",
    "}"
   ]
  },
  {
   "cell_type": "code",
   "execution_count": 3,
   "id": "61f8d013",
   "metadata": {},
   "outputs": [
    {
     "data": {
      "application/json": "[\"GroverDiffusion\"]",
      "text/html": [
       "<ul><li>GroverDiffusion</li></ul>"
      ],
      "text/plain": [
       "GroverDiffusion"
      ]
     },
     "execution_count": 3,
     "metadata": {},
     "output_type": "execute_result"
    }
   ],
   "source": [
    "// Grover diffusion operator\n",
    "operation GroverDiffusion(groverQubits : Qubit[]) : Unit is Adj+Ctl {\n",
    "    within {\n",
    "        ApplyToEachA(H, Most(groverQubits));\n",
    "        ApplyToEachA(X, Most(groverQubits));\n",
    "    } apply {\n",
    "        Controlled Z(Most(Most(groverQubits)), Tail(Most(groverQubits)));\n",
    "    }\n",
    "}"
   ]
  },
  {
   "cell_type": "code",
   "execution_count": 24,
   "id": "01231794",
   "metadata": {},
   "outputs": [
    {
     "data": {
      "application/json": "[\"GroverIteration\"]",
      "text/html": [
       "<ul><li>GroverIteration</li></ul>"
      ],
      "text/plain": [
       "GroverIteration"
      ]
     },
     "execution_count": 24,
     "metadata": {},
     "output_type": "execute_result"
    }
   ],
   "source": [
    "// Circuit performing a single Grover iteration\n",
    "operation GroverIteration(groverQubits : Qubit[]): Unit is Adj+Ctl {\n",
    "    Oracle(groverQubits);\n",
    "    GroverDiffusion(groverQubits);\n",
    "}"
   ]
  },
  {
   "cell_type": "code",
   "execution_count": 5,
   "id": "c987b5f7",
   "metadata": {},
   "outputs": [
    {
     "data": {
      "application/json": "[\"GroverPow\"]",
      "text/html": [
       "<ul><li>GroverPow</li></ul>"
      ],
      "text/plain": [
       "GroverPow"
      ]
     },
     "execution_count": 5,
     "metadata": {},
     "output_type": "execute_result"
    }
   ],
   "source": [
    "operation GroverPow(power: Int, groverQubits : Qubit[]): Unit is Adj+Ctl {\n",
    "    for i in 1 .. power {\n",
    "        GroverIteration(groverQubits);\n",
    "    }\n",
    "}"
   ]
  },
  {
   "cell_type": "code",
   "execution_count": 25,
   "id": "9f08b387",
   "metadata": {},
   "outputs": [
    {
     "data": {
      "application/json": "[\"QuantumCounting\"]",
      "text/html": [
       "<ul><li>QuantumCounting</li></ul>"
      ],
      "text/plain": [
       "QuantumCounting"
      ]
     },
     "execution_count": 25,
     "metadata": {},
     "output_type": "execute_result"
    }
   ],
   "source": [
    "// Circuit implementing the Quantum phase estimation algorithm\n",
    "operation QuantumCounting(groverQubits : Qubit[], targetQubits : Qubit[]) : Unit is Adj+Ctl {\n",
    "    let oracle = DiscreteOracle(GroverPow);\n",
    "    QuantumPhaseEstimation(oracle, groverQubits, BigEndian(targetQubits));\n",
    "}"
   ]
  },
  {
   "cell_type": "code",
   "execution_count": 52,
   "id": "d7d1fc78",
   "metadata": {},
   "outputs": [
    {
     "data": {
      "application/json": "[\"MeasureTarget\"]",
      "text/html": [
       "<ul><li>MeasureTarget</li></ul>"
      ],
      "text/plain": [
       "MeasureTarget"
      ]
     },
     "execution_count": 52,
     "metadata": {},
     "output_type": "execute_result"
    }
   ],
   "source": [
    "// Used for extracting the number of solutions\n",
    "operation MeasureTarget() : Double {\n",
    "    use groverQubits = Qubit[6];\n",
    "    use targetQubits = Qubit[6];\n",
    "    \n",
    "    QuantumCounting(groverQubits, targetQubits);\n",
    "    \n",
    "    let a = BoolArrayAsInt(Reversed(ResultArrayAsBoolArray(MultiM(targetQubits))));\n",
    "    ResetAll(groverQubits);\n",
    "    ResetAll(targetQubits);\n",
    "    \n",
    "    let theta = 2.0 * PI() * IntAsDouble(a) / IntAsDouble(2 ^ Length(targetQubits));\n",
    "    let numSolutions= PowD(Cos(theta / 2.0), 2.0) * IntAsDouble(2 ^ (Length(groverQubits) - 1));\n",
    "    Message(\"Number of solutions:\");\n",
    "    return numSolutions;\n",
    "}"
   ]
  },
  {
   "cell_type": "code",
   "execution_count": 71,
   "id": "18f31ba4",
   "metadata": {},
   "outputs": [
    {
     "name": "stdout",
     "output_type": "stream",
     "text": [
      "Number of solutions:\r\n"
     ]
    },
    {
     "data": {
      "application/json": "1.889259770426321",
      "text/plain": [
       "1.889259770426321"
      ]
     },
     "execution_count": 71,
     "metadata": {},
     "output_type": "execute_result"
    }
   ],
   "source": [
    "%simulate MeasureTarget"
   ]
  },
  {
   "cell_type": "code",
   "execution_count": 66,
   "id": "220c41f8",
   "metadata": {},
   "outputs": [
    {
     "data": {
      "application/json": "[{\"Metric\":\"CNOT\",\"Sum\":15845.0,\"Max\":15845.0},{\"Metric\":\"QubitClifford\",\"Sum\":5194.0,\"Max\":5194.0},{\"Metric\":\"R\",\"Sum\":18.0,\"Max\":18.0},{\"Metric\":\"Measure\",\"Sum\":18.0,\"Max\":18.0},{\"Metric\":\"T\",\"Sum\":11076.0,\"Max\":11076.0},{\"Metric\":\"Depth\",\"Sum\":7211.0,\"Max\":7211.0},{\"Metric\":\"Width\",\"Sum\":16.0,\"Max\":16.0},{\"Metric\":\"QubitCount\",\"Sum\":16.0,\"Max\":16.0},{\"Metric\":\"BorrowedWidth\",\"Sum\":0.0,\"Max\":0.0}]",
      "text/html": [
       "<table><thead><tr><th style=\"text-align: start;\">Metric</th><th style=\"text-align: start;\">Sum</th><th style=\"text-align: start;\">Max</th></tr></thead><tbody><tr><td style=\"text-align: start;\">CNOT</td><td style=\"text-align: start;\">15845</td><td style=\"text-align: start;\">15845</td></tr><tr><td style=\"text-align: start;\">QubitClifford</td><td style=\"text-align: start;\">5194</td><td style=\"text-align: start;\">5194</td></tr><tr><td style=\"text-align: start;\">R</td><td style=\"text-align: start;\">18</td><td style=\"text-align: start;\">18</td></tr><tr><td style=\"text-align: start;\">Measure</td><td style=\"text-align: start;\">18</td><td style=\"text-align: start;\">18</td></tr><tr><td style=\"text-align: start;\">T</td><td style=\"text-align: start;\">11076</td><td style=\"text-align: start;\">11076</td></tr><tr><td style=\"text-align: start;\">Depth</td><td style=\"text-align: start;\">7211</td><td style=\"text-align: start;\">7211</td></tr><tr><td style=\"text-align: start;\">Width</td><td style=\"text-align: start;\">16</td><td style=\"text-align: start;\">16</td></tr><tr><td style=\"text-align: start;\">QubitCount</td><td style=\"text-align: start;\">16</td><td style=\"text-align: start;\">16</td></tr><tr><td style=\"text-align: start;\">BorrowedWidth</td><td style=\"text-align: start;\">0</td><td style=\"text-align: start;\">0</td></tr></tbody></table>"
      ],
      "text/plain": [
       "Metric        Sum   Max\r\n",
       "------------- ----- -----\r\n",
       "CNOT          15845 15845\r\n",
       "QubitClifford 5194  5194\r\n",
       "R             18    18\r\n",
       "Measure       18    18\r\n",
       "T             11076 11076\r\n",
       "Depth         7211  7211\r\n",
       "Width         16    16\r\n",
       "QubitCount    16    16\r\n",
       "BorrowedWidth 0     0\r\n"
      ]
     },
     "execution_count": 66,
     "metadata": {},
     "output_type": "execute_result"
    }
   ],
   "source": [
    "%estimate MeasureTarget"
   ]
  },
  {
   "cell_type": "code",
   "execution_count": null,
   "id": "7bb3b870",
   "metadata": {},
   "outputs": [],
   "source": []
  }
 ],
 "metadata": {
  "kernelspec": {
   "display_name": "Q#",
   "language": "qsharp",
   "name": "iqsharp"
  },
  "language_info": {
   "file_extension": ".qs",
   "mimetype": "text/x-qsharp",
   "name": "qsharp",
   "version": "0.14"
  }
 },
 "nbformat": 4,
 "nbformat_minor": 5
}
