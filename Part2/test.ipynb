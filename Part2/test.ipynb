{
 "cells": [
  {
   "cell_type": "code",
   "execution_count": 196,
   "id": "e17fce50",
   "metadata": {},
   "outputs": [
    {
     "data": {
      "application/json": "[]",
      "text/html": [
       "<ul></ul>"
      ],
      "text/plain": []
     },
     "execution_count": 196,
     "metadata": {},
     "output_type": "execute_result"
    }
   ],
   "source": [
    "open Microsoft.Quantum.Canon;\n",
    "open Microsoft.Quantum.Intrinsic;\n",
    "open Microsoft.Quantum.Measurement;\n",
    "open Microsoft.Quantum.Math;\n",
    "open Microsoft.Quantum.Convert;\n",
    "open Microsoft.Quantum.Arithmetic;\n",
    "open Microsoft.Quantum.Arrays;\n",
    "open Microsoft.Quantum.Preparation;\n",
    "open Microsoft.Quantum.Characterization;\n",
    "open Microsoft.Quantum.Oracles;"
   ]
  },
  {
   "cell_type": "code",
   "execution_count": 298,
   "id": "6d6e6403",
   "metadata": {},
   "outputs": [
    {
     "data": {
      "application/json": "[\"Oracle\"]",
      "text/html": [
       "<ul><li>Oracle</li></ul>"
      ],
      "text/plain": [
       "Oracle"
      ]
     },
     "execution_count": 298,
     "metadata": {},
     "output_type": "execute_result"
    }
   ],
   "source": [
    "// oracle f(x) = 1 if x = 00..00, 11..11\n",
    "operation Oracle(inputQubits : Qubit[], output : Qubit) : Unit is Adj+Ctl {\n",
    "    Controlled X(inputQubits, output);\n",
    "    within {\n",
    "        for input in inputQubits {\n",
    "            X(input);\n",
    "        }\n",
    "    }\n",
    "    apply {\n",
    "        Controlled X(inputQubits, output);\n",
    "    }\n",
    "}"
   ]
  },
  {
   "cell_type": "code",
   "execution_count": 299,
   "id": "fe014d92",
   "metadata": {},
   "outputs": [
    {
     "data": {
      "application/json": "[\"GroverDiffusion\"]",
      "text/html": [
       "<ul><li>GroverDiffusion</li></ul>"
      ],
      "text/plain": [
       "GroverDiffusion"
      ]
     },
     "execution_count": 299,
     "metadata": {},
     "output_type": "execute_result"
    }
   ],
   "source": [
    "// Grover diffusion operator\n",
    "operation GroverDiffusion(inputQubits : Qubit[]) : Unit is Adj+Ctl {\n",
    "\n",
    "    within {\n",
    "        ApplyToEachA(H, inputQubits);\n",
    "        ApplyToEachA(X, inputQubits);\n",
    "    } apply {\n",
    "        Controlled Z(Most(inputQubits), Tail(inputQubits));\n",
    "    }\n",
    "}"
   ]
  },
  {
   "cell_type": "code",
   "execution_count": 300,
   "id": "eedd44db",
   "metadata": {},
   "outputs": [
    {
     "data": {
      "application/json": "[\"GroverPow\"]",
      "text/html": [
       "<ul><li>GroverPow</li></ul>"
      ],
      "text/plain": [
       "GroverPow"
      ]
     },
     "execution_count": 300,
     "metadata": {},
     "output_type": "execute_result"
    }
   ],
   "source": [
    "operation GroverPow(power: Int, inputQubits : Qubit[], output : Qubit): Unit is Adj+Ctl {\n",
    "    for i in 1 .. power {\n",
    "        Oracle(inputQubits, output);\n",
    "        GroverDiffusion(inputQubits);\n",
    "    }\n",
    "}"
   ]
  },
  {
   "cell_type": "code",
   "execution_count": 301,
   "id": "0afcdcf9",
   "metadata": {},
   "outputs": [
    {
     "data": {
      "application/json": "[\"QuantumCounting\"]",
      "text/html": [
       "<ul><li>QuantumCounting</li></ul>"
      ],
      "text/plain": [
       "QuantumCounting"
      ]
     },
     "execution_count": 301,
     "metadata": {},
     "output_type": "execute_result"
    }
   ],
   "source": [
    "operation QuantumCounting(inputQubits : Qubit[], output : Qubit, targetQubits : Qubit[]) : Unit {\n",
    "    ApplyToEachA(H, inputQubits);\n",
    "    H(output);\n",
    "    ApplyToEachA(H, targetQubits);\n",
    "    for i in 0 .. Length(targetQubits) - 1 {\n",
    "        Controlled GroverPow([targetQubits[Length(targetQubits) - i - 1]], (2 ^ i, inputQubits, output));\n",
    "    }\n",
    "    Adjoint QFT(BigEndian(targetQubits));\n",
    "}"
   ]
  },
  {
   "cell_type": "code",
   "execution_count": 302,
   "id": "fb82d390",
   "metadata": {},
   "outputs": [
    {
     "data": {
      "application/json": "[\"MeasureTarget\"]",
      "text/html": [
       "<ul><li>MeasureTarget</li></ul>"
      ],
      "text/plain": [
       "MeasureTarget"
      ]
     },
     "execution_count": 302,
     "metadata": {},
     "output_type": "execute_result"
    }
   ],
   "source": [
    "open Microsoft.Quantum.Extensions.Convert;\n",
    "operation MeasureTarget() : Int {\n",
    "    use inputQubits = Qubit[4];\n",
    "    use output = Qubit();\n",
    "    use targetQubits = Qubit[5];\n",
    "    \n",
    "    QuantumCounting(inputQubits, output, targetQubits);\n",
    "    \n",
    "    let a = BoolArrayAsInt(Reversed(ResultArrayAsBoolArray(MultiM(targetQubits))));\n",
    "    ResetAll(inputQubits);\n",
    "    Reset(output);\n",
    "    ResetAll(targetQubits);\n",
    "    \n",
    "    let theta = 2.0 * IntAsDouble(a) * PI() / IntAsDouble(2 ^ Length(targetQubits));\n",
    "    let numSol= (1.0 - PowD(Sin(theta / 2.0), 2.0)) * IntAsDouble(2 ^ (Length(inputQubits) + 1));\n",
    "    let x = Round(numSol);\n",
    "    Message($\"numSolutions: {x}\");\n",
    "    return a;\n",
    "}"
   ]
  },
  {
   "cell_type": "code",
   "execution_count": 303,
   "id": "16f2c233",
   "metadata": {},
   "outputs": [
    {
     "name": "stdout",
     "output_type": "stream",
     "text": [
      "numSolutions: 0\r\n"
     ]
    },
    {
     "data": {
      "application/json": "16",
      "text/plain": [
       "16"
      ]
     },
     "execution_count": 303,
     "metadata": {},
     "output_type": "execute_result"
    }
   ],
   "source": [
    "%simulate MeasureTarget"
   ]
  },
  {
   "cell_type": "code",
   "execution_count": null,
   "id": "49ac2d70",
   "metadata": {},
   "outputs": [],
   "source": []
  },
  {
   "cell_type": "code",
   "execution_count": null,
   "id": "940fa881",
   "metadata": {},
   "outputs": [],
   "source": []
  },
  {
   "cell_type": "code",
   "execution_count": null,
   "id": "456cccb4",
   "metadata": {},
   "outputs": [],
   "source": []
  }
 ],
 "metadata": {
  "kernelspec": {
   "display_name": "Q#",
   "language": "qsharp",
   "name": "iqsharp"
  },
  "language_info": {
   "file_extension": ".qs",
   "mimetype": "text/x-qsharp",
   "name": "qsharp",
   "version": "0.14"
  }
 },
 "nbformat": 4,
 "nbformat_minor": 5
}
