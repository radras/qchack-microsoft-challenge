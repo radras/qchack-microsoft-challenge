{
 "cells": [
  {
   "cell_type": "code",
   "execution_count": 14,
   "id": "9294e035",
   "metadata": {},
   "outputs": [
    {
     "data": {
      "application/json": "[]",
      "text/html": [
       "<ul></ul>"
      ],
      "text/plain": []
     },
     "execution_count": 14,
     "metadata": {},
     "output_type": "execute_result"
    }
   ],
   "source": [
    "open Microsoft.Quantum.Measurement;\n",
    "open Microsoft.Quantum.Math;\n",
    "open Microsoft.Quantum.Arrays;\n",
    "open Microsoft.Quantum.Preparation;\n",
    "open Microsoft.Quantum.Characterization;\n",
    "open Microsoft.Quantum.Oracles;\n",
    "open Microsoft.Quantum.Arithmetic;\n",
    "open Microsoft.Quantum.Convert;"
   ]
  },
  {
   "cell_type": "code",
   "execution_count": 15,
   "id": "c8bb4bf2",
   "metadata": {},
   "outputs": [
    {
     "data": {
      "application/json": "[\"Oracle\"]",
      "text/html": [
       "<ul><li>Oracle</li></ul>"
      ],
      "text/plain": [
       "Oracle"
      ]
     },
     "execution_count": 15,
     "metadata": {},
     "output_type": "execute_result"
    }
   ],
   "source": [
    "// oracle f(x) = 1 if x = 00..00, 11..11\n",
    "operation Oracle(groverQubits : Qubit[]) : Unit is Adj+Ctl {\n",
    "    Controlled X(Most(groverQubits), Tail(groverQubits));\n",
    "    within {\n",
    "        ApplyToEachA(X, Most(groverQubits));\n",
    "    }\n",
    "    apply {\n",
    "        Controlled X(Most(groverQubits), Tail(groverQubits));\n",
    "    }\n",
    "}"
   ]
  },
  {
   "cell_type": "code",
   "execution_count": 16,
   "id": "61f8d013",
   "metadata": {},
   "outputs": [
    {
     "data": {
      "application/json": "[\"GroverDiffusion\"]",
      "text/html": [
       "<ul><li>GroverDiffusion</li></ul>"
      ],
      "text/plain": [
       "GroverDiffusion"
      ]
     },
     "execution_count": 16,
     "metadata": {},
     "output_type": "execute_result"
    }
   ],
   "source": [
    "// Grover diffusion operator\n",
    "operation GroverDiffusion(groverQubits : Qubit[]) : Unit is Adj+Ctl {\n",
    "    within {\n",
    "        ApplyToEachA(H, Most(groverQubits));\n",
    "        ApplyToEachA(X, Most(groverQubits));\n",
    "    } apply {\n",
    "        Controlled Z(Most(Most(groverQubits)), Tail(Most(groverQubits)));\n",
    "    }\n",
    "}"
   ]
  },
  {
   "cell_type": "code",
   "execution_count": 17,
   "id": "01231794",
   "metadata": {},
   "outputs": [
    {
     "data": {
      "application/json": "[\"GroverIteration\"]",
      "text/html": [
       "<ul><li>GroverIteration</li></ul>"
      ],
      "text/plain": [
       "GroverIteration"
      ]
     },
     "execution_count": 17,
     "metadata": {},
     "output_type": "execute_result"
    }
   ],
   "source": [
    "operation GroverIteration(groverQubits : Qubit[]): Unit is Adj+Ctl {\n",
    "    Oracle(groverQubits);\n",
    "    GroverDiffusion(groverQubits);\n",
    "}"
   ]
  },
  {
   "cell_type": "code",
   "execution_count": 18,
   "id": "c987b5f7",
   "metadata": {},
   "outputs": [
    {
     "data": {
      "application/json": "[\"GroverPow\"]",
      "text/html": [
       "<ul><li>GroverPow</li></ul>"
      ],
      "text/plain": [
       "GroverPow"
      ]
     },
     "execution_count": 18,
     "metadata": {},
     "output_type": "execute_result"
    }
   ],
   "source": [
    "operation GroverPow(power: Int, groverQubits : Qubit[]): Unit is Adj+Ctl {\n",
    "    for i in 1 .. power {\n",
    "        GroverIteration(groverQubits);\n",
    "    }\n",
    "}"
   ]
  },
  {
   "cell_type": "code",
   "execution_count": 19,
   "id": "9f08b387",
   "metadata": {},
   "outputs": [
    {
     "data": {
      "application/json": "[\"QuantumCounting\"]",
      "text/html": [
       "<ul><li>QuantumCounting</li></ul>"
      ],
      "text/plain": [
       "QuantumCounting"
      ]
     },
     "execution_count": 19,
     "metadata": {},
     "output_type": "execute_result"
    }
   ],
   "source": [
    "operation QuantumCounting(groverQubits : Qubit[], targetQubits : Qubit[]) : Unit is Adj+Ctl {\n",
    "    let oracle = DiscreteOracle(GroverPow);\n",
    "    QuantumPhaseEstimation(oracle, groverQubits, BigEndian(targetQubits));\n",
    "}"
   ]
  },
  {
   "cell_type": "code",
   "execution_count": 24,
   "id": "d7d1fc78",
   "metadata": {},
   "outputs": [
    {
     "data": {
      "application/json": "[\"MeasureTarget\"]",
      "text/html": [
       "<ul><li>MeasureTarget</li></ul>"
      ],
      "text/plain": [
       "MeasureTarget"
      ]
     },
     "execution_count": 24,
     "metadata": {},
     "output_type": "execute_result"
    }
   ],
   "source": [
    "operation MeasureTarget() : Int {\n",
    "    use groverQubits = Qubit[6];\n",
    "    use targetQubits = Qubit[8];\n",
    "    \n",
    "    QuantumCounting(groverQubits, targetQubits);\n",
    "    \n",
    "    let a = BoolArrayAsInt(Reversed(ResultArrayAsBoolArray(MultiM(targetQubits))));\n",
    "    ResetAll(groverQubits);\n",
    "    ResetAll(targetQubits);\n",
    "    \n",
    "    let theta = 2.0 * PI() * IntAsDouble(a) / IntAsDouble(2 ^ Length(targetQubits));\n",
    "    let numSolutions= PowD(Cos(theta / 2.0), 2.0) * IntAsDouble(2 ^ (Length(groverQubits) - 1));\n",
    "    Message($\"a: {a}\");\n",
    "    return Round(numSolutions);\n",
    "}"
   ]
  },
  {
   "cell_type": "code",
   "execution_count": 25,
   "id": "18f31ba4",
   "metadata": {},
   "outputs": [
    {
     "name": "stdout",
     "output_type": "stream",
     "text": [
      "a: 0\r\n"
     ]
    },
    {
     "data": {
      "application/json": "32",
      "text/plain": [
       "32"
      ]
     },
     "execution_count": 25,
     "metadata": {},
     "output_type": "execute_result"
    }
   ],
   "source": [
    "%simulate MeasureTarget"
   ]
  },
  {
   "cell_type": "code",
   "execution_count": null,
   "id": "220c41f8",
   "metadata": {},
   "outputs": [],
   "source": []
  },
  {
   "cell_type": "code",
   "execution_count": null,
   "id": "7bb3b870",
   "metadata": {},
   "outputs": [],
   "source": []
  }
 ],
 "metadata": {
  "kernelspec": {
   "display_name": "Q#",
   "language": "qsharp",
   "name": "iqsharp"
  },
  "language_info": {
   "file_extension": ".qs",
   "mimetype": "text/x-qsharp",
   "name": "qsharp",
   "version": "0.14"
  }
 },
 "nbformat": 4,
 "nbformat_minor": 5
}
